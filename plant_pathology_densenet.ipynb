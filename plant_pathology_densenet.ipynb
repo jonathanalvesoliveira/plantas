{
 "cells": [
  {
   "cell_type": "markdown",
   "metadata": {
    "id": "C1HKaB5b_gX9"
   },
   "source": [
    "# Tratamento das imagens"
   ]
  },
  {
   "cell_type": "code",
   "execution_count": 1,
   "metadata": {
    "id": "W84ncXD6d3Re"
   },
   "outputs": [],
   "source": [
    "#Definir o diretorio onde serão armazenadas e retiradas as imagens\n",
    "import pandas as pd \n",
    "import numpy as np\n",
    "import tensorflow as tf\n",
    "import skimage.segmentation as seg\n",
    "import skimage.color as color\n",
    "import os\n",
    "import cv2\n",
    "\n",
    "root_path = '/media/jaaoliveira/Dados/GIT/plantas'\n",
    "os.chdir(root_path)"
   ]
  },
  {
   "cell_type": "markdown",
   "metadata": {
    "id": "1UrEwrkbr5sK"
   },
   "source": [
    "# Import Libraries"
   ]
  },
  {
   "cell_type": "markdown",
   "metadata": {
    "id": "nSU7yERLP_66"
   },
   "source": [
    "## 1.1. Using Colab GPU for Training\n"
   ]
  },
  {
   "cell_type": "markdown",
   "metadata": {
    "id": "GI0iOY8zvZzL"
   },
   "source": [
    "\n",
    "Google Colab offers free GPUs and TPUs! Since we'll be training a large neural network it's best to take advantage of this (in this case we'll attach a GPU), otherwise training will take a very long time.\n",
    "\n",
    "A GPU can be added by going to the menu and selecting:\n",
    "\n",
    "`Edit 🡒 Notebook Settings 🡒 Hardware accelerator 🡒 (GPU)`\n",
    "\n",
    "Then run the following cell to confirm that the GPU is detected."
   ]
  },
  {
   "cell_type": "code",
   "execution_count": 2,
   "metadata": {
    "colab": {
     "base_uri": "https://localhost:8080/"
    },
    "id": "DEfSbAA4QHas",
    "outputId": "efb37d45-5e42-43d7-fb7e-3996c50a9050"
   },
   "outputs": [
    {
     "name": "stdout",
     "output_type": "stream",
     "text": [
      "Found GPU at: /device:GPU:0\n"
     ]
    }
   ],
   "source": [
    "import tensorflow.compat.v1 as tfc\n",
    "import tensorflow as tf\n",
    "\n",
    "from tensorflow.compat.v1 import ConfigProto\n",
    "from tensorflow.compat.v1 import InteractiveSession\n",
    "\n",
    "config = ConfigProto ()\n",
    "config.gpu_options.allow_growth = True\n",
    "session = InteractiveSession (config = config)\n",
    "\n",
    "# Get the GPU device name.\n",
    "device_name = tf.test.gpu_device_name()\n",
    "\n",
    "# The device name should look like the following:\n",
    "if device_name == '/device:GPU:0':\n",
    "    print('Found GPU at: {}'.format(device_name))\n",
    "else:\n",
    "    raise SystemError('GPU device not found')"
   ]
  },
  {
   "cell_type": "markdown",
   "metadata": {
    "id": "cqG7FzRVFEIv"
   },
   "source": [
    "In order for torch to use the GPU, we need to identify and specify the GPU as the device. Later, in our training loop, we will load data onto the device. "
   ]
  },
  {
   "cell_type": "code",
   "execution_count": 3,
   "metadata": {
    "colab": {
     "base_uri": "https://localhost:8080/"
    },
    "id": "oYsV4H8fCpZ-",
    "outputId": "9b8e90ac-fe68-4e0c-eecd-322cc9210a47"
   },
   "outputs": [
    {
     "name": "stdout",
     "output_type": "stream",
     "text": [
      "No GPU available, using the CPU instead.\n"
     ]
    }
   ],
   "source": [
    "import torch\n",
    "\n",
    "# If there's a GPU available...\n",
    "if torch.cuda.is_available():    \n",
    "\n",
    "    # Tell PyTorch to use the GPU.    \n",
    "    device = torch.device(\"cuda\")\n",
    "\n",
    "    print('There are %d GPU(s) available.' % torch.cuda.device_count())\n",
    "\n",
    "    print('We will use the GPU:', torch.cuda.get_device_name(0))\n",
    "\n",
    "# If not...\n",
    "else:\n",
    "    print('No GPU available, using the CPU instead.')\n",
    "    device = torch.device(\"cpu\")"
   ]
  },
  {
   "cell_type": "code",
   "execution_count": 4,
   "metadata": {
    "colab": {
     "base_uri": "https://localhost:8080/"
    },
    "id": "BGFVi5_utvsF",
    "outputId": "29c73610-e25a-4448-851f-d776fae3d265"
   },
   "outputs": [],
   "source": [
    "#!gdown https://drive.google.com/uc?id=115wev8oHTRnXleR78zArhSPCSDgNPAKy"
   ]
  },
  {
   "cell_type": "markdown",
   "metadata": {
    "id": "P-6iOkNA9NZV"
   },
   "source": [
    "# wandb"
   ]
  },
  {
   "cell_type": "code",
   "execution_count": 4,
   "metadata": {
    "colab": {
     "base_uri": "https://localhost:8080/"
    },
    "id": "7wPXOT6b9MnW",
    "outputId": "f1dc24d2-be86-4884-b14c-a7bba921200d"
   },
   "outputs": [
    {
     "name": "stdout",
     "output_type": "stream",
     "text": [
      "Traceback (most recent call last):\r\n",
      "  File \"/home/jaaoliveira/anaconda3/envs/tf-gpu/bin/wandb\", line 10, in <module>\r\n",
      "    sys.exit(cli())\r\n",
      "TypeError: 'module' object is not callable\r\n"
     ]
    }
   ],
   "source": [
    "!wandb login 105561c81e9b7d48b0d2c9906184632bd993cc48"
   ]
  },
  {
   "cell_type": "code",
   "execution_count": 4,
   "metadata": {
    "id": "EDmH3L7z9TNE"
   },
   "outputs": [],
   "source": [
    "import wandb\n",
    "from wandb.keras import WandbCallback"
   ]
  },
  {
   "cell_type": "code",
   "execution_count": 5,
   "metadata": {
    "id": "2sqRiYDpr5sM"
   },
   "outputs": [
    {
     "name": "stderr",
     "output_type": "stream",
     "text": [
      "\n",
      "Bad key \"text.kerning_factor\" on line 4 in\n",
      "/home/jaaoliveira/anaconda3/envs/tf-gpu/lib/python3.7/site-packages/matplotlib/mpl-data/stylelib/_classic_test_patch.mplstyle.\n",
      "You probably need to get an updated matplotlibrc file from\n",
      "https://github.com/matplotlib/matplotlib/blob/v3.1.3/matplotlibrc.template\n",
      "or from the matplotlib source distribution\n"
     ]
    }
   ],
   "source": [
    "import random\n",
    "import numpy as np\n",
    "import pandas as pd \n",
    "import os\n",
    "import cv2\n",
    "from matplotlib import pyplot as plt\n",
    "\n",
    "from tensorflow.keras.models import Sequential\n",
    "from tensorflow.keras import layers as L\n",
    "from tensorflow.keras.utils import to_categorical\n",
    "\n",
    "from sklearn.model_selection import train_test_split\n",
    "from sklearn.utils.class_weight import compute_class_weight\n",
    "from sklearn import metrics\n",
    "from sklearn.metrics import plot_confusion_matrix, accuracy_score, precision_score, recall_score, f1_score\n",
    "\n",
    "%matplotlib inline"
   ]
  },
  {
   "cell_type": "code",
   "execution_count": 6,
   "metadata": {
    "id": "pDb_JvToDWAd"
   },
   "outputs": [],
   "source": [
    "root_path = '/media/jaaoliveira/Dados/GIT/plantas'\n",
    "os.chdir(root_path)"
   ]
  },
  {
   "cell_type": "code",
   "execution_count": 7,
   "metadata": {
    "colab": {
     "base_uri": "https://localhost:8080/"
    },
    "id": "GHDaf7os8bF7",
    "outputId": "f44c00f6-67ef-411c-d756-590f6c7bef39"
   },
   "outputs": [
    {
     "name": "stdout",
     "output_type": "stream",
     "text": [
      "Batch size: 4\n"
     ]
    }
   ],
   "source": [
    "AUTO = tf.data.experimental.AUTOTUNE\n",
    "\n",
    "BATCH_SIZE = 4\n",
    "IMG_SIZE = 512\n",
    "\n",
    "print('Batch size:', BATCH_SIZE)"
   ]
  },
  {
   "cell_type": "code",
   "execution_count": 10,
   "metadata": {
    "id": "aaauApH1vlEW"
   },
   "outputs": [],
   "source": [
    "#!unzip -o plant-pathology-2020-fgvc7.zip"
   ]
  },
  {
   "cell_type": "markdown",
   "metadata": {
    "id": "2Ksl0DGXr5sU"
   },
   "source": [
    "# Get train and test data"
   ]
  },
  {
   "cell_type": "code",
   "execution_count": 24,
   "metadata": {
    "colab": {
     "base_uri": "https://localhost:8080/"
    },
    "id": "edBy3OH2r5sV",
    "outputId": "2e7a7496-4471-4f8a-d8d5-be8f6b14586f"
   },
   "outputs": [
    {
     "name": "stdout",
     "output_type": "stream",
     "text": [
      "  image_id  healthy  multiple_diseases  rust  scab\n",
      "0  Train_0        0                  0     0     1\n",
      "1  Train_1        0                  1     0     0\n",
      "2  Train_2        1                  0     0     0\n",
      "3  Train_3        0                  0     1     0\n",
      "4  Train_4        1                  0     0     0\n"
     ]
    }
   ],
   "source": [
    "train = pd.read_csv(root_path + '/train_n.csv')\n",
    "test = pd.read_csv(root_path + '/test_n.csv')\n",
    "sub = pd.read_csv(root_path + '/sample_submission.csv')\n",
    "\n",
    "print(train.head())\n",
    "\n",
    "train_path = train.image_id.apply(lambda x: f'{root_path}/imagens_tratadas/{x}.jpg').values\n",
    "test_path = test.image_id.apply(lambda x: f'{root_path}/imagens_tratadas/{x}.jpg').values\n",
    "train_label = train.loc[:, 'healthy':].values\n",
    "\n",
    "#Separa treino e validação\n",
    "train_path, valid_path, train_label, valid_label, = train_test_split(train_path, train_label, test_size=0.05, random_state=123, stratify = train_label)"
   ]
  },
  {
   "cell_type": "markdown",
   "metadata": {
    "id": "kmny9kHdr5sY"
   },
   "source": [
    "# Get class weights"
   ]
  },
  {
   "cell_type": "code",
   "execution_count": 9,
   "metadata": {
    "colab": {
     "base_uri": "https://localhost:8080/",
     "height": 282
    },
    "id": "ijdT_xAtr5sY",
    "outputId": "9d339154-7274-480d-8d14-194632170654"
   },
   "outputs": [
    {
     "name": "stderr",
     "output_type": "stream",
     "text": [
      "/home/jaaoliveira/anaconda3/envs/tf-gpu/lib/python3.7/site-packages/sklearn/utils/validation.py:70: FutureWarning: Pass classes=[0 1 2 3], y=[0 3 0 ... 2 2 0] as keyword args. From version 0.25 passing these as positional arguments will result in an error\n",
      "  FutureWarning)\n"
     ]
    },
    {
     "data": {
      "text/plain": [
       "<BarContainer object of 4 artists>"
      ]
     },
     "execution_count": 9,
     "metadata": {},
     "output_type": "execute_result"
    },
    {
     "data": {
      "image/png": "[encoded data removed]",
      "text/plain": [
       "<Figure size 432x288 with 1 Axes>"
      ]
     },
     "metadata": {
      "needs_background": "light"
     },
     "output_type": "display_data"
    }
   ],
   "source": [
    "class_weight = compute_class_weight('balanced', np.unique(np.argmax(train_label, axis=1)), np.argmax(train_label, axis=1))\n",
    "plt.bar(range(4), class_weight)"
   ]
  },
  {
   "cell_type": "markdown",
   "metadata": {
    "id": "E9tQueRSr5sc"
   },
   "source": [
    "# Lets see some images"
   ]
  },
  {
   "cell_type": "code",
   "execution_count": 10,
   "metadata": {
    "colab": {
     "base_uri": "https://localhost:8080/",
     "height": 286
    },
    "id": "STDtKBLpr5sc",
    "outputId": "ccbc660b-3921-4f44-c39e-d3b76239ee51"
   },
   "outputs": [
    {
     "data": {
      "text/plain": [
       "<matplotlib.image.AxesImage at 0x7f1638bf2290>"
      ]
     },
     "execution_count": 10,
     "metadata": {},
     "output_type": "execute_result"
    },
    {
     "data": {
      "image/png": "[encoded data removed]",
      "text/plain": [
       "<Figure size 432x288 with 8 Axes>"
      ]
     },
     "metadata": {
      "needs_background": "light"
     },
     "output_type": "display_data"
    }
   ],
   "source": [
    "# 2×2で表示\n",
    "fig, ax = plt.subplots(4, 2)\n",
    "# サンプル読み込み\n",
    "img = cv2.imread(root_path +'/imagens_tratadas/Train_0.jpg')\n",
    "img1 = cv2.imread(root_path +'/imagens_tratadas/Train_1.jpg')\n",
    "img2 = cv2.imread(root_path +'/imagens_tratadas/Train_2.jpg')\n",
    "img3 = cv2.imread(root_path +'/imagens_tratadas/Train_3.jpg')\n",
    "# 場所指定した書き出し\n",
    "ax[0, 0].imshow(cv2.cvtColor(img, cv2.COLOR_BGR2RGB))\n",
    "ax[0, 1].imshow(cv2.cvtColor(img1, cv2.COLOR_BGR2RGB))\n",
    "ax[1, 0].imshow(cv2.cvtColor(img2, cv2.COLOR_BGR2RGB))\n",
    "ax[1, 1].imshow(cv2.cvtColor(img3, cv2.COLOR_BGR2RGB))\n",
    "img4 = cv2.imread(root_path +'/imagens_tratadas/Train_0_contour.jpg')\n",
    "img5 = cv2.imread(root_path +'/imagens_tratadas/Train_0_cut.jpg')\n",
    "img6 = cv2.imread(root_path +'/imagens_tratadas/Train_0_gaus.jpg')\n",
    "img7 = cv2.imread(root_path +'/imagens_tratadas/Train_0_seg.jpg')\n",
    "ax[2, 0].imshow(cv2.cvtColor(img4, cv2.COLOR_BGR2RGB))\n",
    "ax[2, 1].imshow(cv2.cvtColor(img5, cv2.COLOR_BGR2RGB))\n",
    "ax[3, 0].imshow(cv2.cvtColor(img6, cv2.COLOR_BGR2RGB))\n",
    "ax[3, 1].imshow(cv2.cvtColor(img7, cv2.COLOR_BGR2RGB))"
   ]
  },
  {
   "cell_type": "markdown",
   "metadata": {
    "id": "dkG4sgzPr5sg"
   },
   "source": [
    "# Decode images"
   ]
  },
  {
   "cell_type": "code",
   "execution_count": 11,
   "metadata": {
    "id": "14IJNbVor5sg"
   },
   "outputs": [],
   "source": [
    "#Definição de conversão de dados (decodificação)\n",
    "def decode_image(filename, label=None, image_size=(IMG_SIZE, IMG_SIZE)):\n",
    "#     Leia os dados brutos\n",
    "    bits = tf.io.read_file(filename)\n",
    "#    Decodificar para tensor de imagem\n",
    "    image = tf.image.decode_jpeg(bits, channels=3)\n",
    "#     0-255のRGBを0-1に変換する（normalize）\n",
    "    image = tf.cast(image, tf.float32) / 255.0\n",
    "#     画像サイズを1365×2048から768×768にする\n",
    "    image = tf.image.resize(image, image_size)\n",
    "#    imageをreturn\n",
    "    if label is None:\n",
    "        return image\n",
    "    else:\n",
    "        return image, label\n",
    "\n",
    "# データ変換（増幅）の定義\n",
    "def data_augment(image, label=None):\n",
    "#     ランダムに水平方向に反転\n",
    "    image = tf.image.random_flip_left_right(image, seed=123)\n",
    "#     ランダムに垂直方向に反転\n",
    "    image = tf.image.random_flip_up_down(image, seed=123)\n",
    "      \n",
    "\n",
    "    if label is None:\n",
    "        return image\n",
    "    else:\n",
    "        return image, label"
   ]
  },
  {
   "cell_type": "code",
   "execution_count": 25,
   "metadata": {
    "id": "2XtMBwAWr5sk"
   },
   "outputs": [],
   "source": [
    "# Decodificar dados\n",
    "train_dataset = (\n",
    "#  Ler e gravar dados em formato TFR\n",
    "    tf.data.TFRecordDataset\n",
    "#    Divida a matriz para construir o conjunto de dados\n",
    "    .from_tensor_slices((train_path, train_label))\n",
    "#    Execute a conversão de dados (decodificação) em paralelo\n",
    "    .map(decode_image, num_parallel_calls=AUTO)\n",
    "#    Execute a conversão de dados (amplificação) em paralelo\n",
    "    .map(data_augment, num_parallel_calls=AUTO)\n",
    "    .cache()\n",
    "    .repeat()\n",
    "    .shuffle(1024) #Elemento aleatório\n",
    "    .batch(BATCH_SIZE)\n",
    "    .prefetch(AUTO)\n",
    ")\n",
    "\n",
    "val_dataset = (\n",
    "#  Ler e gravar dados em formato TFR\n",
    "    tf.data.TFRecordDataset\n",
    "#    Divida a matriz para construir o conjunto de dados\n",
    "    .from_tensor_slices((valid_path, valid_label))\n",
    "#    Execute a conversão de dados (decodificação) em paralelo\n",
    "    .map(decode_image, num_parallel_calls=AUTO)\n",
    "#    Execute a conversão de dados (amplificação) em paralelo\n",
    "    .map(data_augment, num_parallel_calls=AUTO)\n",
    "    .cache()\n",
    "    .repeat()\n",
    "    .batch(BATCH_SIZE)\n",
    "    .prefetch(AUTO)\n",
    ")\n",
    "\n",
    "\n",
    "# Dados de teste de decodificação\n",
    "test_dataset = (\n",
    "    tf.data.TFRecordDataset\n",
    "    .from_tensor_slices(test_path)\n",
    "    .map(decode_image, num_parallel_calls=AUTO)\n",
    "    .map(data_augment, num_parallel_calls=AUTO)\n",
    "    .batch(BATCH_SIZE)\n",
    ")"
   ]
  },
  {
   "cell_type": "code",
   "execution_count": 16,
   "metadata": {
    "id": "Dlhjh5eC0MJL"
   },
   "outputs": [],
   "source": [
    "#list(train_dataset)"
   ]
  },
  {
   "cell_type": "markdown",
   "metadata": {
    "id": "KL_08tYur5sn"
   },
   "source": [
    "# Define the parameters"
   ]
  },
  {
   "cell_type": "code",
   "execution_count": 13,
   "metadata": {
    "colab": {
     "base_uri": "https://localhost:8080/",
     "height": 282
    },
    "id": "MK-0ThPWr5sn",
    "outputId": "e925b2d4-8f87-49d8-a37b-ca2282aeff37"
   },
   "outputs": [
    {
     "data": {
      "text/plain": [
       "[<matplotlib.lines.Line2D at 0x7f163835b850>]"
      ]
     },
     "execution_count": 13,
     "metadata": {},
     "output_type": "execute_result"
    },
    {
     "data": {
      "image/png": "[encoded data removed]",
      "text/plain": [
       "<Figure size 432x288 with 1 Axes>"
      ]
     },
     "metadata": {
      "needs_background": "light"
     },
     "output_type": "display_data"
    }
   ],
   "source": [
    "EPOCHS = 40\n",
    "LR_START = 0.0001\n",
    "LR_MAX = 0.00005\n",
    "LR_MIN = 0.0001\n",
    "LR_RAMPUP_EPOCHS = 10\n",
    "LR_SUSTAIN_EPOCHS = 4\n",
    "LR_EXP_DECAY = .8\n",
    "\n",
    "def lrfn(epoch):\n",
    "    if epoch < LR_RAMPUP_EPOCHS:\n",
    "        lr = (LR_MAX - LR_START) / LR_RAMPUP_EPOCHS * epoch + LR_START\n",
    "    elif epoch < LR_RAMPUP_EPOCHS + LR_SUSTAIN_EPOCHS:\n",
    "        lr = LR_MAX\n",
    "    else:\n",
    "        lr = (LR_MAX - LR_MIN) * LR_EXP_DECAY**(epoch - LR_RAMPUP_EPOCHS - LR_SUSTAIN_EPOCHS) + LR_MIN\n",
    "    return lr\n",
    "\n",
    "lr = tf.keras.callbacks.LearningRateScheduler(lrfn)\n",
    "\n",
    "y = [lrfn(x) for x in range(EPOCHS)]\n",
    "plt.plot(y)"
   ]
  },
  {
   "cell_type": "markdown",
   "metadata": {
    "id": "V7Ih6Fwhr5sr"
   },
   "source": [
    "# DenseNet"
   ]
  },
  {
   "cell_type": "code",
   "execution_count": 14,
   "metadata": {
    "colab": {
     "base_uri": "https://localhost:8080/"
    },
    "id": "vuh_EMt5r5ss",
    "outputId": "4957c49c-eba7-4a45-a3ae-5cc2b8fbd2f8"
   },
   "outputs": [
    {
     "name": "stdout",
     "output_type": "stream",
     "text": [
      "Model: \"sequential\"\n",
      "_________________________________________________________________\n",
      "Layer (type)                 Output Shape              Param #   \n",
      "=================================================================\n",
      "densenet121 (Model)          (None, 16, 16, 1024)      7037504   \n",
      "_________________________________________________________________\n",
      "global_average_pooling2d (Gl (None, 1024)              0         \n",
      "_________________________________________________________________\n",
      "dense (Dense)                (None, 4)                 4100      \n",
      "=================================================================\n",
      "Total params: 7,041,604\n",
      "Trainable params: 6,957,956\n",
      "Non-trainable params: 83,648\n",
      "_________________________________________________________________\n",
      "None\n"
     ]
    }
   ],
   "source": [
    "# DenseNet121,DenseNet169,DenseNet201が使用可能\n",
    "from tensorflow.keras.applications import DenseNet121\n",
    "\n",
    "dnn121 = DenseNet121(include_top=False, weights='imagenet', input_shape=(IMG_SIZE, IMG_SIZE, 3))\n",
    "\n",
    "model_dnn121 = Sequential()\n",
    "model_dnn121.add(dnn121)\n",
    "model_dnn121.add(L.GlobalAveragePooling2D())\n",
    "model_dnn121.add(L.Dense(4, activation='softmax'))\n",
    "model_dnn121.compile(optimizer='adam', loss='categorical_crossentropy', metrics=['accuracy'])\n",
    "print(model_dnn121.summary())"
   ]
  },
  {
   "cell_type": "markdown",
   "metadata": {
    "id": "A7Mq4o7Hr5sw"
   },
   "source": [
    "# Model"
   ]
  },
  {
   "cell_type": "code",
   "execution_count": 15,
   "metadata": {
    "colab": {
     "base_uri": "https://localhost:8080/",
     "height": 599
    },
    "id": "y50oHh6pDNv8",
    "outputId": "9a58af22-7a48-43df-d1d7-00202b07aeec"
   },
   "outputs": [
    {
     "name": "stderr",
     "output_type": "stream",
     "text": [
      "\u001b[34m\u001b[1mwandb\u001b[0m: Currently logged in as: \u001b[33melitonperin\u001b[0m (use `wandb login --relogin` to force relogin)\n"
     ]
    },
    {
     "data": {
      "text/html": [
       "\n",
       "                Tracking run with wandb version 0.10.11<br/>\n",
       "                Syncing run <strong style=\"color:#cdcd00\">radiant-totem-27</strong> to <a href=\"https://wandb.ai\" target=\"_blank\">Weights & Biases</a> <a href=\"https://docs.wandb.com/integrations/jupyter.html\" target=\"_blank\">(Documentation)</a>.<br/>\n",
       "                Project page: <a href=\"https://wandb.ai/elitonperin/trabalho-de-vc-wesley\" target=\"_blank\">https://wandb.ai/elitonperin/trabalho-de-vc-wesley</a><br/>\n",
       "                Run page: <a href=\"https://wandb.ai/elitonperin/trabalho-de-vc-wesley/runs/qu2r38ta\" target=\"_blank\">https://wandb.ai/elitonperin/trabalho-de-vc-wesley/runs/qu2r38ta</a><br/>\n",
       "                Run data is saved locally in <code>/media/jaaoliveira/Dados/GIT/plantas/wandb/run-20201126_213846-qu2r38ta</code><br/><br/>\n",
       "            "
      ],
      "text/plain": [
       "<IPython.core.display.HTML object>"
      ]
     },
     "metadata": {},
     "output_type": "display_data"
    },
    {
     "data": {
      "text/html": [
       "<h1>Run(qu2r38ta)</h1><p></p><iframe src=\"https://wandb.ai/elitonperin/trabalho-de-vc-wesley/runs/qu2r38ta\" style=\"border:none;width:100%;height:400px\"></iframe>"
      ],
      "text/plain": [
       "<wandb.sdk.wandb_run.Run at 0x7f15b8215810>"
      ]
     },
     "execution_count": 15,
     "metadata": {},
     "output_type": "execute_result"
    }
   ],
   "source": [
    "wandb.init(project=\"trabalho-de-vc-wesley\")"
   ]
  },
  {
   "cell_type": "code",
   "execution_count": 17,
   "metadata": {},
   "outputs": [],
   "source": [
    "STEPS_PER_EPOCH = train_label.shape[0] // BATCH_SIZE"
   ]
  },
  {
   "cell_type": "code",
   "execution_count": 18,
   "metadata": {},
   "outputs": [
    {
     "name": "stdout",
     "output_type": "stream",
     "text": [
      "imagens\r\n",
      "imagens_tratadas\r\n",
      "imagens_tratadas-20201121T233801Z-001.zip\r\n",
      "model-best.h5\r\n",
      "passo_a_paso\r\n",
      "plant_pathology_densenet.ipynb\r\n",
      "resnet.py\r\n",
      "sample_submission.csv\r\n",
      "submission_dnn121_transformacoes_loss.csv\r\n",
      "submission_resnet_.csv\r\n",
      "test.csv\r\n",
      "train.csv\r\n",
      "training_resnet__1\r\n",
      "train_n.csv\r\n",
      "wandb\r\n",
      "weights_dnn121.h5\r\n",
      "weights_dnn121_transformacoes_loss.h5\r\n"
     ]
    }
   ],
   "source": [
    "!ls"
   ]
  },
  {
   "cell_type": "code",
   "execution_count": 19,
   "metadata": {
    "colab": {
     "base_uri": "https://localhost:8080/"
    },
    "id": "s_D959Prr5sw",
    "outputId": "f16d395c-3982-4ffb-e19e-3a55660643cc"
   },
   "outputs": [
    {
     "name": "stdout",
     "output_type": "stream",
     "text": [
      "Train for 2162 steps, validate for 2 steps\n",
      "Epoch 1/40\n",
      "2162/2162 [==============================] - 1081s 500ms/step - loss: 0.5594 - accuracy: 0.8008 - val_loss: 0.2282 - val_accuracy: 1.0000\n",
      "Epoch 2/40\n",
      "2162/2162 [==============================] - 1019s 471ms/step - loss: 0.3235 - accuracy: 0.8981 - val_loss: 0.0380 - val_accuracy: 1.0000\n",
      "Epoch 3/40\n",
      "2162/2162 [==============================] - 1019s 471ms/step - loss: 0.2365 - accuracy: 0.9244 - val_loss: 0.0276 - val_accuracy: 1.0000\n",
      "Epoch 4/40\n",
      "2162/2162 [==============================] - 1019s 471ms/step - loss: 0.1804 - accuracy: 0.9392 - val_loss: 0.0367 - val_accuracy: 1.0000\n",
      "Epoch 5/40\n",
      "2162/2162 [==============================] - 1018s 471ms/step - loss: 0.1314 - accuracy: 0.9591 - val_loss: 0.0678 - val_accuracy: 1.0000\n",
      "Epoch 6/40\n",
      "2162/2162 [==============================] - 1018s 471ms/step - loss: 0.1007 - accuracy: 0.9679 - val_loss: 0.0591 - val_accuracy: 1.0000\n",
      "Epoch 7/40\n",
      "2162/2162 [==============================] - 1018s 471ms/step - loss: 0.0745 - accuracy: 0.9771 - val_loss: 0.0133 - val_accuracy: 1.0000\n",
      "Epoch 8/40\n",
      "2162/2162 [==============================] - 1018s 471ms/step - loss: 0.0573 - accuracy: 0.9824 - val_loss: 0.0348 - val_accuracy: 1.0000\n",
      "Epoch 9/40\n",
      "2162/2162 [==============================] - 1018s 471ms/step - loss: 0.0446 - accuracy: 0.9859 - val_loss: 0.0038 - val_accuracy: 1.0000\n",
      "Epoch 10/40\n",
      "2162/2162 [==============================] - 1018s 471ms/step - loss: 0.0391 - accuracy: 0.9882 - val_loss: 0.0079 - val_accuracy: 1.0000\n",
      "Epoch 11/40\n",
      "2162/2162 [==============================] - 1018s 471ms/step - loss: 0.0245 - accuracy: 0.9932 - val_loss: 0.0086 - val_accuracy: 1.0000\n",
      "Epoch 12/40\n",
      "2162/2162 [==============================] - 1018s 471ms/step - loss: 0.0208 - accuracy: 0.9944 - val_loss: 0.0036 - val_accuracy: 1.0000\n",
      "Epoch 13/40\n",
      "2162/2162 [==============================] - 1017s 470ms/step - loss: 0.0289 - accuracy: 0.9917 - val_loss: 0.0064 - val_accuracy: 1.0000\n",
      "Epoch 14/40\n",
      "2162/2162 [==============================] - 1017s 471ms/step - loss: 0.0203 - accuracy: 0.9948 - val_loss: 5.8821e-04 - val_accuracy: 1.0000\n",
      "Epoch 15/40\n",
      "2162/2162 [==============================] - 1018s 471ms/step - loss: 0.0189 - accuracy: 0.9951 - val_loss: 0.0061 - val_accuracy: 1.0000\n",
      "Epoch 16/40\n",
      "2162/2162 [==============================] - 1017s 470ms/step - loss: 0.0335 - accuracy: 0.9897 - val_loss: 0.0135 - val_accuracy: 1.0000\n",
      "Epoch 17/40\n",
      "2162/2162 [==============================] - 1016s 470ms/step - loss: 0.0335 - accuracy: 0.9901 - val_loss: 0.0491 - val_accuracy: 1.0000\n",
      "Epoch 18/40\n",
      "2162/2162 [==============================] - 1016s 470ms/step - loss: 0.0398 - accuracy: 0.9881 - val_loss: 4.6027e-04 - val_accuracy: 1.0000\n",
      "Epoch 19/40\n",
      "2162/2162 [==============================] - 1016s 470ms/step - loss: 0.0369 - accuracy: 0.9879 - val_loss: 0.0134 - val_accuracy: 1.0000\n",
      "Epoch 20/40\n",
      "2162/2162 [==============================] - 1023s 473ms/step - loss: 0.0422 - accuracy: 0.9870 - val_loss: 0.5892 - val_accuracy: 0.8750\n",
      "Epoch 21/40\n",
      "2162/2162 [==============================] - 1021s 472ms/step - loss: 0.0487 - accuracy: 0.9836 - val_loss: 0.7863 - val_accuracy: 0.8750\n",
      "Epoch 22/40\n",
      "2162/2162 [==============================] - 1017s 470ms/step - loss: 0.0417 - accuracy: 0.9881 - val_loss: 0.0127 - val_accuracy: 1.0000\n",
      "Epoch 23/40\n",
      "2162/2162 [==============================] - 1016s 470ms/step - loss: 0.0365 - accuracy: 0.9874 - val_loss: 0.3760 - val_accuracy: 0.8750\n",
      "Epoch 24/40\n",
      "2162/2162 [==============================] - 1016s 470ms/step - loss: 0.0413 - accuracy: 0.9867 - val_loss: 8.6307e-04 - val_accuracy: 1.0000\n",
      "Epoch 25/40\n",
      "2162/2162 [==============================] - 1016s 470ms/step - loss: 0.0434 - accuracy: 0.9851 - val_loss: 8.2595e-05 - val_accuracy: 1.0000\n",
      "Epoch 26/40\n",
      "2162/2162 [==============================] - 1016s 470ms/step - loss: 0.0385 - accuracy: 0.9877 - val_loss: 0.2141 - val_accuracy: 0.8750\n",
      "Epoch 27/40\n",
      "2162/2162 [==============================] - 1016s 470ms/step - loss: 0.0384 - accuracy: 0.9876 - val_loss: 0.1257 - val_accuracy: 0.8750\n",
      "Epoch 28/40\n",
      "2162/2162 [==============================] - 1016s 470ms/step - loss: 0.0390 - accuracy: 0.9872 - val_loss: 0.0127 - val_accuracy: 1.0000\n",
      "Epoch 29/40\n",
      "2162/2162 [==============================] - 1016s 470ms/step - loss: 0.0338 - accuracy: 0.9891 - val_loss: 7.0372e-04 - val_accuracy: 1.0000\n",
      "Epoch 30/40\n",
      "2162/2162 [==============================] - 1016s 470ms/step - loss: 0.0292 - accuracy: 0.9907 - val_loss: 0.0064 - val_accuracy: 1.0000\n",
      "Epoch 31/40\n",
      "2162/2162 [==============================] - 1016s 470ms/step - loss: 0.0385 - accuracy: 0.9879 - val_loss: 0.0064 - val_accuracy: 1.0000\n",
      "Epoch 32/40\n",
      "2162/2162 [==============================] - 1016s 470ms/step - loss: 0.0279 - accuracy: 0.9921 - val_loss: 9.8777e-04 - val_accuracy: 1.0000\n",
      "Epoch 33/40\n",
      "2162/2162 [==============================] - 1016s 470ms/step - loss: 0.0365 - accuracy: 0.9877 - val_loss: 0.0028 - val_accuracy: 1.0000\n",
      "Epoch 34/40\n",
      "2162/2162 [==============================] - 1017s 470ms/step - loss: 0.0274 - accuracy: 0.9897 - val_loss: 0.0375 - val_accuracy: 1.0000\n",
      "Epoch 35/40\n",
      "2162/2162 [==============================] - 1016s 470ms/step - loss: 0.0297 - accuracy: 0.9892 - val_loss: 1.0707e-04 - val_accuracy: 1.0000\n",
      "Epoch 36/40\n",
      "2162/2162 [==============================] - 1017s 470ms/step - loss: 0.0253 - accuracy: 0.9920 - val_loss: 4.3849e-04 - val_accuracy: 1.0000\n",
      "Epoch 37/40\n",
      "2162/2162 [==============================] - 1016s 470ms/step - loss: 0.0296 - accuracy: 0.9913 - val_loss: 0.0260 - val_accuracy: 1.0000\n",
      "Epoch 38/40\n",
      "2162/2162 [==============================] - 1016s 470ms/step - loss: 0.0254 - accuracy: 0.9931 - val_loss: 0.0218 - val_accuracy: 1.0000\n",
      "Epoch 39/40\n",
      "2162/2162 [==============================] - 1016s 470ms/step - loss: 0.0282 - accuracy: 0.9918 - val_loss: 9.9934e-05 - val_accuracy: 1.0000\n",
      "Epoch 40/40\n",
      "2162/2162 [==============================] - 1017s 470ms/step - loss: 0.0255 - accuracy: 0.9921 - val_loss: 6.3341e-04 - val_accuracy: 1.0000\n"
     ]
    }
   ],
   "source": [
    "mc_dnn121 = tf.keras.callbacks.ModelCheckpoint('weights_dnn121.h5', \n",
    "                                               monitor='loss', \n",
    "                                               save_best_only=True, save_weights_only=True)\n",
    "history = model_dnn121.fit(train_dataset, \n",
    "                           epochs=EPOCHS, \n",
    "                           validation_data = val_dataset,\n",
    "                           callbacks=[lr, mc_dnn121,\n",
    "                                      WandbCallback(monitor='val_loss',\n",
    "                                                   mode='max',\n",
    "                                                   data_type='image',\n",
    "                                                    #training_data=train_dataset\n",
    "                                                    )\n",
    "                                                    ], \n",
    "                           steps_per_epoch = STEPS_PER_EPOCH,\n",
    "                           validation_steps=2)"
   ]
  },
  {
   "cell_type": "code",
   "execution_count": 35,
   "metadata": {
    "id": "56bPCBy5r5sz"
   },
   "outputs": [],
   "source": [
    "model_dnn121.load_weights('/media/jaaoliveira/Dados/GIT/plantas/weights_dnn121.h5')\n",
    "#model_dnn121.load_weights('/content/wandb/run-20201114_000046-ft2s6ors/files/model-best.h5')"
   ]
  },
  {
   "cell_type": "markdown",
   "metadata": {
    "id": "D5dy4j2ur5s2"
   },
   "source": [
    "# Validação"
   ]
  },
  {
   "cell_type": "code",
   "execution_count": 36,
   "metadata": {
    "id": "P26j45zgBu4v"
   },
   "outputs": [
    {
     "name": "stdout",
     "output_type": "stream",
     "text": [
      "114/114 [==============================] - 14s 122ms/step\n"
     ]
    }
   ],
   "source": [
    "#Predizer com os dados de validação\n",
    "pred = model_dnn121.predict(val_dataset, verbose=1, steps = valid_label.shape[0] // BATCH_SIZE)"
   ]
  },
  {
   "cell_type": "code",
   "execution_count": 37,
   "metadata": {
    "id": "KpymwOIvYwB_"
   },
   "outputs": [],
   "source": [
    "# pred\n",
    "# print(valid_label.shape)\n",
    "from keras.utils import np_utils\n",
    "pred = np_utils.to_categorical(np.argmax(pred, axis=1), dtype=int)\n",
    "# dataf = pd.get_dummies(np.argmax(pred, axis=1))\n",
    "# dataf"
   ]
  },
  {
   "cell_type": "code",
   "execution_count": 38,
   "metadata": {
    "id": "lyYqO80WCX-D"
   },
   "outputs": [
    {
     "name": "stdout",
     "output_type": "stream",
     "text": [
      "accuracy:  0.9583333333333334\n",
      "precision:  0.9595327998836771\n",
      "recall:  0.9583333333333334\n",
      "f1_score:  0.9572045375874115\n"
     ]
    }
   ],
   "source": [
    "#Verificar a acurácia do modelo\n",
    "print('accuracy: ', accuracy_score(valid_label, pred))\n",
    "#Previsão em relação ao o que estou predizendo\n",
    "print('precision: ', precision_score(valid_label, pred, average='weighted'))\n",
    "#Previsão em relação das classes verdadeiras\n",
    "print('recall: ', recall_score(valid_label, pred, average='weighted'))\n",
    "#Média armônica dos dois precision e recall\n",
    "print('f1_score: ', f1_score(valid_label, pred, average='weighted'))"
   ]
  },
  {
   "cell_type": "code",
   "execution_count": null,
   "metadata": {
    "id": "mkKflq8gCn5S"
   },
   "outputs": [],
   "source": [
    "# plotar Matriz de Confusão entre classes\n",
    "plot_confusion_matrix(model_dnn121, val_dataset, valid_label, values_format='d');"
   ]
  },
  {
   "cell_type": "markdown",
   "metadata": {
    "id": "WRNff46MBrTR"
   },
   "source": [
    "# Predict"
   ]
  },
  {
   "cell_type": "code",
   "execution_count": 39,
   "metadata": {
    "id": "2M3pevrqr5s3"
   },
   "outputs": [
    {
     "name": "stdout",
     "output_type": "stream",
     "text": [
      "2277/2277 [==============================] - 282s 124ms/step\n"
     ]
    }
   ],
   "source": [
    "probs_dnn121 = model_dnn121.predict(test_dataset, verbose=1)"
   ]
  },
  {
   "cell_type": "code",
   "execution_count": 40,
   "metadata": {},
   "outputs": [
    {
     "data": {
      "text/html": [
       "<div>\n",
       "<style scoped>\n",
       "    .dataframe tbody tr th:only-of-type {\n",
       "        vertical-align: middle;\n",
       "    }\n",
       "\n",
       "    .dataframe tbody tr th {\n",
       "        vertical-align: top;\n",
       "    }\n",
       "\n",
       "    .dataframe thead th {\n",
       "        text-align: right;\n",
       "    }\n",
       "</style>\n",
       "<table border=\"1\" class=\"dataframe\">\n",
       "  <thead>\n",
       "    <tr style=\"text-align: right;\">\n",
       "      <th></th>\n",
       "      <th>image_id</th>\n",
       "      <th>healthy</th>\n",
       "      <th>multiple_diseases</th>\n",
       "      <th>rust</th>\n",
       "      <th>scab</th>\n",
       "    </tr>\n",
       "  </thead>\n",
       "  <tbody>\n",
       "    <tr>\n",
       "      <th>0</th>\n",
       "      <td>Test_0</td>\n",
       "      <td>0.009496</td>\n",
       "      <td>0.000254</td>\n",
       "      <td>9.891100e-01</td>\n",
       "      <td>1.139401e-03</td>\n",
       "    </tr>\n",
       "    <tr>\n",
       "      <th>1</th>\n",
       "      <td>Test_1</td>\n",
       "      <td>0.000070</td>\n",
       "      <td>0.000119</td>\n",
       "      <td>9.997244e-01</td>\n",
       "      <td>8.642961e-05</td>\n",
       "    </tr>\n",
       "    <tr>\n",
       "      <th>2</th>\n",
       "      <td>Test_2</td>\n",
       "      <td>0.000027</td>\n",
       "      <td>0.000010</td>\n",
       "      <td>6.923676e-07</td>\n",
       "      <td>9.999624e-01</td>\n",
       "    </tr>\n",
       "    <tr>\n",
       "      <th>3</th>\n",
       "      <td>Test_3</td>\n",
       "      <td>0.993066</td>\n",
       "      <td>0.000002</td>\n",
       "      <td>6.880451e-03</td>\n",
       "      <td>5.165613e-05</td>\n",
       "    </tr>\n",
       "    <tr>\n",
       "      <th>4</th>\n",
       "      <td>Test_4</td>\n",
       "      <td>0.000018</td>\n",
       "      <td>0.000078</td>\n",
       "      <td>9.999037e-01</td>\n",
       "      <td>2.102183e-07</td>\n",
       "    </tr>\n",
       "    <tr>\n",
       "      <th>...</th>\n",
       "      <td>...</td>\n",
       "      <td>...</td>\n",
       "      <td>...</td>\n",
       "      <td>...</td>\n",
       "      <td>...</td>\n",
       "    </tr>\n",
       "    <tr>\n",
       "      <th>1816</th>\n",
       "      <td>Test_1816</td>\n",
       "      <td>0.000074</td>\n",
       "      <td>0.000168</td>\n",
       "      <td>9.990349e-01</td>\n",
       "      <td>7.232679e-04</td>\n",
       "    </tr>\n",
       "    <tr>\n",
       "      <th>1817</th>\n",
       "      <td>Test_1817</td>\n",
       "      <td>0.174941</td>\n",
       "      <td>0.000156</td>\n",
       "      <td>2.983604e-02</td>\n",
       "      <td>7.950668e-01</td>\n",
       "    </tr>\n",
       "    <tr>\n",
       "      <th>1818</th>\n",
       "      <td>Test_1818</td>\n",
       "      <td>0.323665</td>\n",
       "      <td>0.006096</td>\n",
       "      <td>5.459520e-01</td>\n",
       "      <td>1.242874e-01</td>\n",
       "    </tr>\n",
       "    <tr>\n",
       "      <th>1819</th>\n",
       "      <td>Test_1819</td>\n",
       "      <td>0.899122</td>\n",
       "      <td>0.000032</td>\n",
       "      <td>7.655407e-02</td>\n",
       "      <td>2.429249e-02</td>\n",
       "    </tr>\n",
       "    <tr>\n",
       "      <th>1820</th>\n",
       "      <td>Test_1820</td>\n",
       "      <td>0.000187</td>\n",
       "      <td>0.000302</td>\n",
       "      <td>2.409943e-01</td>\n",
       "      <td>7.585176e-01</td>\n",
       "    </tr>\n",
       "  </tbody>\n",
       "</table>\n",
       "<p>1821 rows × 5 columns</p>\n",
       "</div>"
      ],
      "text/plain": [
       "       image_id   healthy  multiple_diseases          rust          scab\n",
       "0        Test_0  0.009496           0.000254  9.891100e-01  1.139401e-03\n",
       "1        Test_1  0.000070           0.000119  9.997244e-01  8.642961e-05\n",
       "2        Test_2  0.000027           0.000010  6.923676e-07  9.999624e-01\n",
       "3        Test_3  0.993066           0.000002  6.880451e-03  5.165613e-05\n",
       "4        Test_4  0.000018           0.000078  9.999037e-01  2.102183e-07\n",
       "...         ...       ...                ...           ...           ...\n",
       "1816  Test_1816  0.000074           0.000168  9.990349e-01  7.232679e-04\n",
       "1817  Test_1817  0.174941           0.000156  2.983604e-02  7.950668e-01\n",
       "1818  Test_1818  0.323665           0.006096  5.459520e-01  1.242874e-01\n",
       "1819  Test_1819  0.899122           0.000032  7.655407e-02  2.429249e-02\n",
       "1820  Test_1820  0.000187           0.000302  2.409943e-01  7.585176e-01\n",
       "\n",
       "[1821 rows x 5 columns]"
      ]
     },
     "execution_count": 40,
     "metadata": {},
     "output_type": "execute_result"
    }
   ],
   "source": [
    "n = 1820\n",
    "final_res = []\n",
    "for i, prob in enumerate(probs_dnn121[:1821]):\n",
    "  n = n + 1\n",
    "  vec = np.array(prob)\n",
    "  # print(test_path[i])\n",
    "  # print(test_path[n])\n",
    "  # vec+=np.array(probs_dnn121[n])\n",
    "  # print(test_path[n])\n",
    "  n = n + 1\n",
    "  vec+=np.array(probs_dnn121[n])\n",
    "  # print(test_path[n])\n",
    "  n = n + 1\n",
    "  vec+=np.array(probs_dnn121[n])\n",
    "  # print(test_path[n])\n",
    "  n = n + 1\n",
    "  vec+=np.array(probs_dnn121[n])\n",
    "  # print(test_path[n])\n",
    "  # print(vec/5)\n",
    "  final_res.append(vec/4)\n",
    "final_res\n",
    "sub_dnn121 = sub\n",
    "sub_dnn121.loc[:, 'healthy':] = final_res\n",
    "sub_dnn121.to_csv('submission_dnn121_complet.csv', index=False)\n",
    "sub_dnn121"
   ]
  },
  {
   "cell_type": "code",
   "execution_count": null,
   "metadata": {
    "id": "5Ww15LPiY55P"
   },
   "outputs": [],
   "source": []
  }
 ],
 "metadata": {
  "accelerator": "GPU",
  "colab": {
   "collapsed_sections": [],
   "name": "plant-pathology-densenet.ipynb",
   "provenance": [],
   "toc_visible": true
  },
  "kernelspec": {
   "display_name": "Python 3",
   "language": "python",
   "name": "python3"
  },
  "language_info": {
   "codemirror_mode": {
    "name": "ipython",
    "version": 3
   },
   "file_extension": ".py",
   "mimetype": "text/x-python",
   "name": "python",
   "nbconvert_exporter": "python",
   "pygments_lexer": "ipython3",
   "version": "3.7.7"
  },
  "papermill": {
   "duration": 825.697603,
   "end_time": "2020-11-11T13:58:57.643916",
   "environment_variables": {},
   "exception": null,
   "input_path": "__notebook__.ipynb",
   "output_path": "__notebook__.ipynb",
   "parameters": {},
   "start_time": "2020-11-11T13:45:11.946313",
   "version": "2.1.0"
  }
 },
 "nbformat": 4,
 "nbformat_minor": 1
}
